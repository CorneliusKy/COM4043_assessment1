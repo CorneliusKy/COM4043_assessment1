{
 "cells": [
  {
   "cell_type": "code",
   "execution_count": 4,
   "metadata": {},
   "outputs": [
    {
     "name": "stderr",
     "output_type": "stream",
     "text": [
      "<>:17: SyntaxWarning: invalid escape sequence '\\p'\n",
      "<>:20: SyntaxWarning: invalid escape sequence '\\p'\n",
      "<>:17: SyntaxWarning: invalid escape sequence '\\p'\n",
      "<>:20: SyntaxWarning: invalid escape sequence '\\p'\n",
      "C:\\Users\\aws.admin\\AppData\\Local\\Temp\\2\\ipykernel_8728\\52806493.py:17: SyntaxWarning: invalid escape sequence '\\p'\n",
      "  plt.plot(x, y, label='$f(x) = e^{-x^2/3} + 3sin(x + \\pi/4)$', color='b')\n",
      "C:\\Users\\aws.admin\\AppData\\Local\\Temp\\2\\ipykernel_8728\\52806493.py:20: SyntaxWarning: invalid escape sequence '\\p'\n",
      "  plt.title('Plot of $f(x) = e^{-x^2/3} + 3sin(x + \\pi/4)$')\n"
     ]
    },
    {
     "ename": "ModuleNotFoundError",
     "evalue": "No module named 'numpy'",
     "output_type": "error",
     "traceback": [
      "\u001b[31m---------------------------------------------------------------------------\u001b[39m",
      "\u001b[31mModuleNotFoundError\u001b[39m                       Traceback (most recent call last)",
      "\u001b[36mCell\u001b[39m\u001b[36m \u001b[39m\u001b[32mIn[4]\u001b[39m\u001b[32m, line 1\u001b[39m\n\u001b[32m----> \u001b[39m\u001b[32m1\u001b[39m \u001b[38;5;28;01mimport\u001b[39;00m\u001b[38;5;250m \u001b[39m\u001b[34;01mnumpy\u001b[39;00m\u001b[38;5;250m \u001b[39m\u001b[38;5;28;01mas\u001b[39;00m\u001b[38;5;250m \u001b[39m\u001b[34;01mnp\u001b[39;00m\n\u001b[32m      2\u001b[39m \u001b[38;5;28;01mimport\u001b[39;00m\u001b[38;5;250m \u001b[39m\u001b[34;01mmatplotlib\u001b[39;00m\u001b[34;01m.\u001b[39;00m\u001b[34;01mpyplot\u001b[39;00m\u001b[38;5;250m \u001b[39m\u001b[38;5;28;01mas\u001b[39;00m\u001b[38;5;250m \u001b[39m\u001b[34;01mplt\u001b[39;00m\n\u001b[32m      4\u001b[39m \u001b[38;5;66;03m# Problem 1: Plotting the function f(x)\u001b[39;00m\n\u001b[32m      5\u001b[39m \u001b[38;5;66;03m# Define the range for x values\u001b[39;00m\n",
      "\u001b[31mModuleNotFoundError\u001b[39m: No module named 'numpy'"
     ]
    }
   ],
   "source": [
    "import numpy as np\n",
    "import matplotlib.pyplot as plt\n",
    "\n",
    "# Problem 1: Plotting the function f(x)\n",
    "# Define the range for x values\n",
    "x = np.linspace(-2 * np.pi, 2 * np.pi, 400)\n",
    "\n",
    "# Define the function f(x)\n",
    "def f(x):\n",
    "    return np.exp(-x**2 / 3) + 3 * np.sin(x + np.pi / 4)\n",
    "\n",
    "# Compute f(x) for each x value\n",
    "y = f(x)\n",
    "\n",
    "# Plot f(x)\n",
    "plt.figure(figsize=(8, 5))\n",
    "plt.plot(x, y, label='$f(x) = e^{-x^2/3} + 3sin(x + \\pi/4)$', color='b')\n",
    "plt.xlabel('x')\n",
    "plt.ylabel('f(x)')\n",
    "plt.title('Plot of $f(x) = e^{-x^2/3} + 3sin(x + \\pi/4)$')\n",
    "plt.legend()\n",
    "plt.grid()\n",
    "plt.show()\n",
    "\n",
    "# Problem 2: Plotting the parametric function x(t) and y(t)\n",
    "# Define the range for t values\n",
    "t = np.linspace(0, 2 * np.pi, 200)\n",
    "\n",
    "# Define the parametric equations\n",
    "def x_t(t):\n",
    "    return 2 * np.sin(t) * np.exp(np.cos(t))\n",
    "\n",
    "def y_t(t):\n",
    "    return - (3/2) * np.cos(t) * np.exp(np.sin(2*t))\n",
    "\n",
    "# Compute x(t) and y(t)\n",
    "x_vals = x_t(t)\n",
    "y_vals = y_t(t)\n",
    "\n",
    "# Plot the parametric function\n",
    "plt.figure(figsize=(8, 5))\n",
    "plt.plot(x_vals, y_vals, label='$x(t), y(t)$', color='r')\n",
    "plt.xlabel('$x(t)$')\n",
    "plt.ylabel('$y(t)$')\n",
    "plt.title('Parametric Plot of $x(t)$ and $y(t)$')\n",
    "plt.legend()\n",
    "plt.grid()\n",
    "plt.show()\n"
   ]
  }
 ],
 "metadata": {
  "kernelspec": {
   "display_name": "Python 3",
   "language": "python",
   "name": "python3"
  },
  "language_info": {
   "codemirror_mode": {
    "name": "ipython",
    "version": 3
   },
   "file_extension": ".py",
   "mimetype": "text/x-python",
   "name": "python",
   "nbconvert_exporter": "python",
   "pygments_lexer": "ipython3",
   "version": "3.12.0"
  }
 },
 "nbformat": 4,
 "nbformat_minor": 2
}
