{
 "cells": [
  {
   "cell_type": "markdown",
   "metadata": {},
   "source": [
    "# Task 5"
   ]
  },
  {
   "cell_type": "markdown",
   "metadata": {},
   "source": [
    "Over the two semesters I worked on various lab tasks, including number guessing game, sudoku game, task management system and treasure hunt game in COM4103, as well as the summative assessment in COM4113 which involved the implementation of a database.\n",
    "\n",
    "The simplest task was the number guessing game for me as it was straightforward with clear logic. No external library was necessary or complex debugging, by running the program multiple times I was able to test it with ease. One of the hardest tasks I encountered was the database implementation in COM4113 which made it more difficult to complete in comparison to the guessing game.\n",
    "\n",
    "A significant problem I ran into when creating the treasure hunt game was that any invalid input from user would cause the game to crash or act strangely such as user entering characters when it is expecting numerical values or when user enters coordinates which are out of bound. It would make the game unstable and frustrating to play because it would end up having the wrong logic or just terminate. To fix the problem I had to implement input validation checks and boundary checks which made the game more robust.\n",
    "\n",
    "During the debugging of the treasure hunt game, I had to intentionally enter incorrect inputs to see how the game behaved, watched YouTube tutorials on python input validation and revisiting lecture materials on moodle.\n",
    "Logical debugging is something I still struggle with sometimes and I want to improve on, understanding and identifying why the program still runs but gives incorrect outputs.\n",
    "\n",
    "The next steps for my growth would be improving my code readability, explore some cloud databases, improving my use of GitHub so that I’m able to efficiently use it for collaborating in team projects.\n",
    "I feel more comfortable using VS Code and GitHub now that I've completed these modules, however situations like database integration forced me to sharpen my problem-solving abilities. In order to improve my programming skills, I will concentrate on data management, Git skills, and debugging in the future."
   ]
  }
 ],
 "metadata": {
  "language_info": {
   "name": "python"
  }
 },
 "nbformat": 4,
 "nbformat_minor": 2
}
