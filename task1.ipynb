{
 "cells": [
  {
   "cell_type": "code",
   "execution_count": null,
   "metadata": {},
   "outputs": [],
   "source": []
  },
  {
   "cell_type": "markdown",
   "metadata": {},
   "source": [
    "#Cloud/Hosting Solution Review\n",
    "Several considerations must be made when deciding between a cloud-based platform and a traditional shared web hosting package for a small bakery's online click-and-collect business. The most crucial factors are the cost, scalability, setup ease, and maintenance ease.\n",
    "Pricing is one of the primary differences between using a cloud-based platform and a traditional shared web hosting service.\n",
    "\n",
    "GoDaddy is an example of a traditional shared web hosting package. GoDaddy users pay a fixed monthly or yearly charge for hosting services under its fixed pricing approach. Because of this setup, shared hosting is a desirable choice for people and small enterprises seeking a dependable and reasonably priced means of establishing a digital identity.\n",
    "Pay-as-you-go model is the process in which the user is charged based on their usage, it is usually used for cloud-based platforms such as Azure and AWS. Accessibility is a major benefit of this approach because some providers provide free tiers for basic services, and charges can start extremely low. However, costs can, grow dramatically as consumption rises, especially during periods of high data traffic.  Because of this, users must closely monitor how much resource they consume in order to prevent unforeseen costs.\n",
    "\n",
    "Since shared hosting involves sharing server resources with other websites, the bakery's website may operate slower than normal, particularly during moments of heavy demand. Additionally, it could have limited scalability, so if the bakery's operations expand, it may be necessary to switch to a better hosting package. On the other hand cloud-based hosting is highly scalable. The bakery may readily update its resources without experiencing any downtime if it unexpectedly sees a spike in traffic, such as during a holiday sale. Due to the specialised resources that cloud platforms provide, performance is usually superior.\n",
    "\n",
    "Traditional shared web hosting doesn't require much technical expertise. Generally speaking, shared hosting is intended for beginners. It has an easy-to-use control panel, straightforward app installations and setup, and integrated customer support.\n",
    "Although it needs greater technical expertise, cloud hosting offers flexibility. Whereas AWS and Azure offer a wide range of services, establishing virtual machines and storage is frequently necessary when constructing a website.\n",
    "\n",
    "The simplest and most economical option for a small bakery with little technical expertise would be shared hosting. Nevertheless, cloud hosting offers superior long-term scalability if the bakery expects substantial traffic or intends to grow its online products and services."
   ]
  }
 ],
 "metadata": {
  "language_info": {
   "name": "python"
  }
 },
 "nbformat": 4,
 "nbformat_minor": 2
}
