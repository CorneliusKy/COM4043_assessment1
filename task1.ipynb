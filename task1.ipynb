{
 "cells": [
  {
   "cell_type": "markdown",
   "metadata": {},
   "source": [
    "# Cloud/Hosting Solution Review\n",
    "Several considerations must be made when deciding between a cloud-based platform and a traditional shared web hosting package for a small bakery's online click-and-collect business. The key factors are the cost, scalability, ease of maintenance and setup.\n",
    "\n",
    "Pricing is one of the primary differences between using a cloud-based platform and a traditional shared web hosting service.\n",
    "\n",
    "GoDaddy is an example of a traditional shared web hosting package that users pay a fixed monthly or yearly charge, for hosting services under its fixed pricing approach. Because of this setup, shared hosting is a desirable choice for people and small enterprises seeking a dependable and reasonably priced means of establishing a digital identity (Pollard, 2024).\n",
    "\n",
    "Pay-as-you-go model is the process in which the user is charged based on their usage, it is usually used for cloud-based platforms (Nikita, 2025), such as Azure and AWS. Accessibility is a major benefit of this approach because some providers provide free tiers for basic services, and charges can start extremely low, but the users can avoid extra expenses by controlling the quantity of resources they use.\n",
    "\n",
    "Since shared hosting involves sharing server resources with other websites, if there is heavy demand, the bakery’s website could crash (Anderson, 2024). Additionally, it could have limited scalability, so if the bakery's operations expand, it may be necessary to switch to a better hosting package. On the other hand, cloud-based hosting is highly scalable. The bakery may readily update its resources without experiencing any downtime if it unexpectedly sees a spike in traffic (Nikita, 2025), such as during a holiday sale. \n",
    "\n",
    "Generally speaking, shared hosting is intended for beginners as the control panel tends to be easy to use, straightforward app installations and setup, and integrated customer support (Lozanov, 2022).\n",
    "\n",
    "Although it needs greater technical expertise, cloud hosting provides adaptability, for example AWS and Azure offer a wide range of services, establishing virtual machines and storage is frequently necessary when constructing a website.\n",
    "\n",
    "In shared hosting there is protection against viruses and hackers, the bakery can benefit from additional security plugins for enhanced security. IT support takes care of any technical issues, backups and updates which simplifies maintenance.\n",
    "\n",
    "As for cloud hosting, it demands additional manual maintenance. Security and server updates are a responsibility of the bakery, as well as setting up firewalls, which may lead to hiring an external developer for the job. Although some cloud providers offer hosting options that reduce maintenance costs, they nonetheless demand more administrative tasks than traditional shared web hosting service. Anderson (2024) proclaims that “the global cloud services market generated 551.8 billion USD in 2021, and is estimated to reach 2.5 trillion USD by 2031.”\n",
    "\n",
    "In conclusion, the simplest and most economical option for a small bakery with little technical expertise would be shared hosting. Nevertheless, cloud hosting offers superior long-term scalability if the bakery expects substantial traffic or intends to grow its online products and services.\n",
    "\n",
    "\n",
    "## References\n",
    "Anderson, T. (2024, April 26). Cloud Hosting vs Shared Hosting: Everything You Need to Know. Bluehost Blog. https://www.bluehost.com/blog/cloud-vs-shared-hosting-what-you-need-to-know/\n",
    "Lozanov, J. (2022, December). Cloud Hosting vs. Shared Hosting: In-depth Comparison. Verpex. https://verpex.com/blog/cloud-hosting/shared-hosting-vs-cloud-hosting-which-comes-out-on-top\n",
    "Nikita, S. (2025). Web Hosting vs. Cloud Hosting. Cloudpanel.io. https://www.cloudpanel.io/blog/web-hosting-vs-cloud-hosting/\n",
    "Pollard, B. (2024, November 6). Cloud Hosting vs. Shared Hosting Comparison - Adivi 2025. Adivi Corporation. https://adivi.com/blog/cloud-hosting-vs-shared-hosting/"
   ]
  }
 ],
 "metadata": {
  "language_info": {
   "name": "python"
  }
 },
 "nbformat": 4,
 "nbformat_minor": 2
}
