{
 "cells": [
  {
   "cell_type": "code",
   "execution_count": null,
   "metadata": {},
   "outputs": [],
   "source": []
  },
  {
   "cell_type": "markdown",
   "metadata": {},
   "source": [
    "#Cloud/Hosting Solution Review\n",
    "Several considerations must be made when deciding between a cloud-based platform and a traditional shared web hosting package for a small bakery's online click-and-collect business. The most crucial factors are the cost, scalability, setup ease, and maintenance ease.\n",
    "Pricing is one of the primary differences between using a cloud-based platform and a traditional shared web hosting service.\n",
    "GoDaddy is an example of a traditional shared web hosting package. GoDaddy users pay a fixed monthly or yearly charge for hosting services under its fixed pricing approach. Because of this setup, shared hosting is a desirable choice for people and small enterprises seeking a dependable and reasonably priced means of establishing a digital identity."
   ]
  }
 ],
 "metadata": {
  "language_info": {
   "name": "python"
  }
 },
 "nbformat": 4,
 "nbformat_minor": 2
}
